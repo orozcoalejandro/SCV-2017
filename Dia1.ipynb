{
 "cells": [
  {
   "cell_type": "code",
   "execution_count": 47,
   "metadata": {
    "collapsed": false
   },
   "outputs": [],
   "source": [
    "import random\n",
    "# El parametro 'n' es la cantidad de numeros que va a haber en la lista\n",
    "def Ejercicio1 (n):\n",
    "    listOfNumbers = [] \n",
    "    for x in range (0, n):   \n",
    "        listOfNumbers.append(random.randint(1, n))\n",
    "        suma = sum(listOfNumbers)\n",
    "        newList = [x / suma for x in listOfNumbers]\n",
    "        suma2 = sum(newList)\n",
    "        if (x==n-1):\n",
    "            print (newList)    \n",
    "            print (suma2)\n"
   ]
  },
  {
   "cell_type": "code",
   "execution_count": 49,
   "metadata": {
    "collapsed": false
   },
   "outputs": [
    {
     "name": "stdout",
     "output_type": "stream",
     "text": [
      "[0.15, 0.1, 0.3, 0.3, 0.05, 0.1]\n",
      "1.0000000000000002\n"
     ]
    }
   ],
   "source": [
    "Ejercicio1 (6)"
   ]
  },
  {
   "cell_type": "code",
   "execution_count": null,
   "metadata": {
    "collapsed": true
   },
   "outputs": [],
   "source": []
  }
 ],
 "metadata": {
  "kernelspec": {
   "display_name": "Python 3",
   "language": "python",
   "name": "python3"
  },
  "language_info": {
   "codemirror_mode": {
    "name": "ipython",
    "version": 3
   },
   "file_extension": ".py",
   "mimetype": "text/x-python",
   "name": "python",
   "nbconvert_exporter": "python",
   "pygments_lexer": "ipython3",
   "version": "3.5.1"
  }
 },
 "nbformat": 4,
 "nbformat_minor": 0
}
